{
  "nbformat": 4,
  "nbformat_minor": 0,
  "metadata": {
    "colab": {
      "provenance": [],
      "authorship_tag": "ABX9TyM/HUQwE/+IF7D7TVS8XlAc",
      "include_colab_link": true
    },
    "kernelspec": {
      "name": "python3",
      "display_name": "Python 3"
    },
    "language_info": {
      "name": "python"
    }
  },
  "cells": [
    {
      "cell_type": "markdown",
      "metadata": {
        "id": "view-in-github",
        "colab_type": "text"
      },
      "source": [
        "<a href=\"https://colab.research.google.com/github/Alina-Telnova/Machine-learning_Telnova/blob/main/%D0%B7%D0%B0%D0%B4%D0%B0%D0%BD%D0%B8%D0%B5_2.ipynb\" target=\"_parent\"><img src=\"https://colab.research.google.com/assets/colab-badge.svg\" alt=\"Open In Colab\"/></a>"
      ]
    },
    {
      "cell_type": "markdown",
      "source": [
        "Домашнее задание 2 будет более свободным по форме:\n",
        "\n",
        "- собрать небольшой корпус текстов в формате *.txt\n",
        "- обучить и протестировать векторную модель любым способом Word2Vec (CBOW, Skip-gram), GloVe, FastText\n",
        "- можно использовать gensim, можно обучать W2V с нуля (если вы достаточно опытные) и т.д.\n",
        "\n",
        "Главное, чтобы \"на выходе\" у вас была своя обученная модель, несколько примеров семантически близких слов и 1 визуалка"
      ],
      "metadata": {
        "id": "hMiYRuc1gL7R"
      }
    },
    {
      "cell_type": "code",
      "source": [
        "!pip install pymorphy3"
      ],
      "metadata": {
        "colab": {
          "base_uri": "https://localhost:8080/"
        },
        "id": "CWnNXZ2Mig5L",
        "outputId": "2561cac1-7914-4e18-9b1c-b077389dcaa4"
      },
      "execution_count": 6,
      "outputs": [
        {
          "output_type": "stream",
          "name": "stdout",
          "text": [
            "Collecting pymorphy3\n",
            "  Downloading pymorphy3-2.0.3-py3-none-any.whl.metadata (1.9 kB)\n",
            "Collecting dawg2-python>=0.8.0 (from pymorphy3)\n",
            "  Downloading dawg2_python-0.9.0-py3-none-any.whl.metadata (7.5 kB)\n",
            "Collecting pymorphy3-dicts-ru (from pymorphy3)\n",
            "  Downloading pymorphy3_dicts_ru-2.4.417150.4580142-py2.py3-none-any.whl.metadata (2.0 kB)\n",
            "Downloading pymorphy3-2.0.3-py3-none-any.whl (53 kB)\n",
            "\u001b[2K   \u001b[90m━━━━━━━━━━━━━━━━━━━━━━━━━━━━━━━━━━━━━━━━\u001b[0m \u001b[32m53.8/53.8 kB\u001b[0m \u001b[31m1.9 MB/s\u001b[0m eta \u001b[36m0:00:00\u001b[0m\n",
            "\u001b[?25hDownloading dawg2_python-0.9.0-py3-none-any.whl (9.3 kB)\n",
            "Downloading pymorphy3_dicts_ru-2.4.417150.4580142-py2.py3-none-any.whl (8.4 MB)\n",
            "\u001b[2K   \u001b[90m━━━━━━━━━━━━━━━━━━━━━━━━━━━━━━━━━━━━━━━━\u001b[0m \u001b[32m8.4/8.4 MB\u001b[0m \u001b[31m56.2 MB/s\u001b[0m eta \u001b[36m0:00:00\u001b[0m\n",
            "\u001b[?25hInstalling collected packages: pymorphy3-dicts-ru, dawg2-python, pymorphy3\n",
            "Successfully installed dawg2-python-0.9.0 pymorphy3-2.0.3 pymorphy3-dicts-ru-2.4.417150.4580142\n"
          ]
        }
      ]
    },
    {
      "cell_type": "code",
      "source": [
        "!pip install gensim"
      ],
      "metadata": {
        "colab": {
          "base_uri": "https://localhost:8080/"
        },
        "id": "o6IbdMDYip2Q",
        "outputId": "b61c69ba-fae6-4bd6-d139-be707b66e2fb"
      },
      "execution_count": 5,
      "outputs": [
        {
          "output_type": "stream",
          "name": "stdout",
          "text": [
            "Collecting gensim\n",
            "  Downloading gensim-4.3.3-cp311-cp311-manylinux_2_17_x86_64.manylinux2014_x86_64.whl.metadata (8.1 kB)\n",
            "Collecting numpy<2.0,>=1.18.5 (from gensim)\n",
            "  Downloading numpy-1.26.4-cp311-cp311-manylinux_2_17_x86_64.manylinux2014_x86_64.whl.metadata (61 kB)\n",
            "\u001b[2K     \u001b[90m━━━━━━━━━━━━━━━━━━━━━━━━━━━━━━━━━━━━━━━━\u001b[0m \u001b[32m61.0/61.0 kB\u001b[0m \u001b[31m2.2 MB/s\u001b[0m eta \u001b[36m0:00:00\u001b[0m\n",
            "\u001b[?25hCollecting scipy<1.14.0,>=1.7.0 (from gensim)\n",
            "  Downloading scipy-1.13.1-cp311-cp311-manylinux_2_17_x86_64.manylinux2014_x86_64.whl.metadata (60 kB)\n",
            "\u001b[2K     \u001b[90m━━━━━━━━━━━━━━━━━━━━━━━━━━━━━━━━━━━━━━━━\u001b[0m \u001b[32m60.6/60.6 kB\u001b[0m \u001b[31m2.3 MB/s\u001b[0m eta \u001b[36m0:00:00\u001b[0m\n",
            "\u001b[?25hRequirement already satisfied: smart-open>=1.8.1 in /usr/local/lib/python3.11/dist-packages (from gensim) (7.1.0)\n",
            "Requirement already satisfied: wrapt in /usr/local/lib/python3.11/dist-packages (from smart-open>=1.8.1->gensim) (1.17.2)\n",
            "Downloading gensim-4.3.3-cp311-cp311-manylinux_2_17_x86_64.manylinux2014_x86_64.whl (26.7 MB)\n",
            "\u001b[2K   \u001b[90m━━━━━━━━━━━━━━━━━━━━━━━━━━━━━━━━━━━━━━━━\u001b[0m \u001b[32m26.7/26.7 MB\u001b[0m \u001b[31m36.0 MB/s\u001b[0m eta \u001b[36m0:00:00\u001b[0m\n",
            "\u001b[?25hDownloading numpy-1.26.4-cp311-cp311-manylinux_2_17_x86_64.manylinux2014_x86_64.whl (18.3 MB)\n",
            "\u001b[2K   \u001b[90m━━━━━━━━━━━━━━━━━━━━━━━━━━━━━━━━━━━━━━━━\u001b[0m \u001b[32m18.3/18.3 MB\u001b[0m \u001b[31m40.8 MB/s\u001b[0m eta \u001b[36m0:00:00\u001b[0m\n",
            "\u001b[?25hDownloading scipy-1.13.1-cp311-cp311-manylinux_2_17_x86_64.manylinux2014_x86_64.whl (38.6 MB)\n",
            "\u001b[2K   \u001b[90m━━━━━━━━━━━━━━━━━━━━━━━━━━━━━━━━━━━━━━━━\u001b[0m \u001b[32m38.6/38.6 MB\u001b[0m \u001b[31m13.2 MB/s\u001b[0m eta \u001b[36m0:00:00\u001b[0m\n",
            "\u001b[?25hInstalling collected packages: numpy, scipy, gensim\n",
            "  Attempting uninstall: numpy\n",
            "    Found existing installation: numpy 2.0.2\n",
            "    Uninstalling numpy-2.0.2:\n",
            "      Successfully uninstalled numpy-2.0.2\n",
            "  Attempting uninstall: scipy\n",
            "    Found existing installation: scipy 1.14.1\n",
            "    Uninstalling scipy-1.14.1:\n",
            "      Successfully uninstalled scipy-1.14.1\n",
            "Successfully installed gensim-4.3.3 numpy-1.26.4 scipy-1.13.1\n"
          ]
        }
      ]
    },
    {
      "cell_type": "code",
      "source": [
        "!pip install --upgrade numpy\n",
        "!pip install --no-cache-dir --force-reinstall gensim"
      ],
      "metadata": {
        "colab": {
          "base_uri": "https://localhost:8080/"
        },
        "id": "V_z4EzYRjBN8",
        "outputId": "2fde5a44-3111-41c2-e6f8-c65bb8a8b38a"
      },
      "execution_count": 2,
      "outputs": [
        {
          "output_type": "stream",
          "name": "stdout",
          "text": [
            "Requirement already satisfied: numpy in /usr/local/lib/python3.11/dist-packages (1.26.4)\n",
            "Collecting numpy\n",
            "  Using cached numpy-2.2.4-cp311-cp311-manylinux_2_17_x86_64.manylinux2014_x86_64.whl.metadata (62 kB)\n",
            "Using cached numpy-2.2.4-cp311-cp311-manylinux_2_17_x86_64.manylinux2014_x86_64.whl (16.4 MB)\n",
            "Installing collected packages: numpy\n",
            "  Attempting uninstall: numpy\n",
            "    Found existing installation: numpy 1.26.4\n",
            "    Uninstalling numpy-1.26.4:\n",
            "      Successfully uninstalled numpy-1.26.4\n",
            "\u001b[31mERROR: pip's dependency resolver does not currently take into account all the packages that are installed. This behaviour is the source of the following dependency conflicts.\n",
            "gensim 4.3.3 requires numpy<2.0,>=1.18.5, but you have numpy 2.2.4 which is incompatible.\n",
            "tensorflow 2.18.0 requires numpy<2.1.0,>=1.26.0, but you have numpy 2.2.4 which is incompatible.\n",
            "numba 0.60.0 requires numpy<2.1,>=1.22, but you have numpy 2.2.4 which is incompatible.\u001b[0m\u001b[31m\n",
            "\u001b[0mSuccessfully installed numpy-2.2.4\n",
            "Collecting gensim\n",
            "  Downloading gensim-4.3.3-cp311-cp311-manylinux_2_17_x86_64.manylinux2014_x86_64.whl.metadata (8.1 kB)\n",
            "Collecting numpy<2.0,>=1.18.5 (from gensim)\n",
            "  Downloading numpy-1.26.4-cp311-cp311-manylinux_2_17_x86_64.manylinux2014_x86_64.whl.metadata (61 kB)\n",
            "\u001b[2K     \u001b[90m━━━━━━━━━━━━━━━━━━━━━━━━━━━━━━━━━━━━━━━━\u001b[0m \u001b[32m61.0/61.0 kB\u001b[0m \u001b[31m5.4 MB/s\u001b[0m eta \u001b[36m0:00:00\u001b[0m\n",
            "\u001b[?25hCollecting scipy<1.14.0,>=1.7.0 (from gensim)\n",
            "  Downloading scipy-1.13.1-cp311-cp311-manylinux_2_17_x86_64.manylinux2014_x86_64.whl.metadata (60 kB)\n",
            "\u001b[2K     \u001b[90m━━━━━━━━━━━━━━━━━━━━━━━━━━━━━━━━━━━━━━━━\u001b[0m \u001b[32m60.6/60.6 kB\u001b[0m \u001b[31m6.0 MB/s\u001b[0m eta \u001b[36m0:00:00\u001b[0m\n",
            "\u001b[?25hCollecting smart-open>=1.8.1 (from gensim)\n",
            "  Downloading smart_open-7.1.0-py3-none-any.whl.metadata (24 kB)\n",
            "Collecting wrapt (from smart-open>=1.8.1->gensim)\n",
            "  Downloading wrapt-1.17.2-cp311-cp311-manylinux_2_5_x86_64.manylinux1_x86_64.manylinux_2_17_x86_64.manylinux2014_x86_64.whl.metadata (6.4 kB)\n",
            "Downloading gensim-4.3.3-cp311-cp311-manylinux_2_17_x86_64.manylinux2014_x86_64.whl (26.7 MB)\n",
            "\u001b[2K   \u001b[90m━━━━━━━━━━━━━━━━━━━━━━━━━━━━━━━━━━━━━━━━\u001b[0m \u001b[32m26.7/26.7 MB\u001b[0m \u001b[31m258.7 MB/s\u001b[0m eta \u001b[36m0:00:00\u001b[0m\n",
            "\u001b[?25hDownloading numpy-1.26.4-cp311-cp311-manylinux_2_17_x86_64.manylinux2014_x86_64.whl (18.3 MB)\n",
            "\u001b[2K   \u001b[90m━━━━━━━━━━━━━━━━━━━━━━━━━━━━━━━━━━━━━━━━\u001b[0m \u001b[32m18.3/18.3 MB\u001b[0m \u001b[31m188.7 MB/s\u001b[0m eta \u001b[36m0:00:00\u001b[0m\n",
            "\u001b[?25hDownloading scipy-1.13.1-cp311-cp311-manylinux_2_17_x86_64.manylinux2014_x86_64.whl (38.6 MB)\n",
            "\u001b[2K   \u001b[90m━━━━━━━━━━━━━━━━━━━━━━━━━━━━━━━━━━━━━━━━\u001b[0m \u001b[32m38.6/38.6 MB\u001b[0m \u001b[31m159.1 MB/s\u001b[0m eta \u001b[36m0:00:00\u001b[0m\n",
            "\u001b[?25hDownloading smart_open-7.1.0-py3-none-any.whl (61 kB)\n",
            "\u001b[2K   \u001b[90m━━━━━━━━━━━━━━━━━━━━━━━━━━━━━━━━━━━━━━━━\u001b[0m \u001b[32m61.7/61.7 kB\u001b[0m \u001b[31m224.5 MB/s\u001b[0m eta \u001b[36m0:00:00\u001b[0m\n",
            "\u001b[?25hDownloading wrapt-1.17.2-cp311-cp311-manylinux_2_5_x86_64.manylinux1_x86_64.manylinux_2_17_x86_64.manylinux2014_x86_64.whl (83 kB)\n",
            "\u001b[2K   \u001b[90m━━━━━━━━━━━━━━━━━━━━━━━━━━━━━━━━━━━━━━━━\u001b[0m \u001b[32m83.2/83.2 kB\u001b[0m \u001b[31m179.7 MB/s\u001b[0m eta \u001b[36m0:00:00\u001b[0m\n",
            "\u001b[?25hInstalling collected packages: wrapt, numpy, smart-open, scipy, gensim\n",
            "  Attempting uninstall: wrapt\n",
            "    Found existing installation: wrapt 1.17.2\n",
            "    Uninstalling wrapt-1.17.2:\n",
            "      Successfully uninstalled wrapt-1.17.2\n",
            "  Attempting uninstall: numpy\n",
            "    Found existing installation: numpy 2.2.4\n",
            "    Uninstalling numpy-2.2.4:\n",
            "      Successfully uninstalled numpy-2.2.4\n",
            "  Attempting uninstall: smart-open\n",
            "    Found existing installation: smart-open 7.1.0\n",
            "    Uninstalling smart-open-7.1.0:\n",
            "      Successfully uninstalled smart-open-7.1.0\n",
            "  Attempting uninstall: scipy\n",
            "    Found existing installation: scipy 1.13.1\n",
            "    Uninstalling scipy-1.13.1:\n",
            "      Successfully uninstalled scipy-1.13.1\n",
            "  Attempting uninstall: gensim\n",
            "    Found existing installation: gensim 4.3.3\n",
            "    Uninstalling gensim-4.3.3:\n",
            "      Successfully uninstalled gensim-4.3.3\n",
            "Successfully installed gensim-4.3.3 numpy-1.26.4 scipy-1.13.1 smart-open-7.1.0 wrapt-1.17.2\n"
          ]
        }
      ]
    },
    {
      "cell_type": "code",
      "source": [
        "# загружаем все, что нам может понадобиться\n",
        "import re\n",
        "import matplotlib.pyplot as plt\n",
        "import seaborn as sns\n",
        "import numpy as np\n",
        "from nltk.corpus import stopwords\n",
        "from nltk import sent_tokenize, word_tokenize\n",
        "from pymorphy3 import MorphAnalyzer\n",
        "from sklearn.manifold import TSNE\n",
        "from pprint import pprint as print\n",
        "from gensim.models.fasttext import FastText\n",
        "\n",
        "# Загружаем стоп-слова из NLTK\n",
        "import nltk\n",
        "nltk.download('stopwords')\n",
        "nltk.download('punkt_tab')\n",
        "\n",
        "stop_words = set(stopwords.words('russian'))\n",
        "morph = MorphAnalyzer()"
      ],
      "metadata": {
        "colab": {
          "base_uri": "https://localhost:8080/"
        },
        "id": "QmF2UCkChBCC",
        "outputId": "7bb92442-a4c5-45ce-aa49-91c0ec7fcb20"
      },
      "execution_count": 19,
      "outputs": [
        {
          "output_type": "stream",
          "name": "stderr",
          "text": [
            "[nltk_data] Downloading package stopwords to /root/nltk_data...\n",
            "[nltk_data]   Package stopwords is already up-to-date!\n",
            "[nltk_data] Downloading package punkt_tab to /root/nltk_data...\n",
            "[nltk_data]   Unzipping tokenizers/punkt_tab.zip.\n"
          ]
        }
      ]
    },
    {
      "cell_type": "code",
      "source": [
        "with open('Акт_второй_Пастернак.txt') as text1, open('Акт_первый_Пастернак.txt') as text2, open('Акт_пятый_Пастернак.txt') as text3, open('Акт_третий_Пастернак.txt') as text4, open('Акт_четвертый_Пастернак.txt') as text5 :\n",
        "    pasternak_texts = text1.read() + text2.read() + text3.read() + text4.read() + text5.read()\n",
        "    print(pasternak_texts[:100])"
      ],
      "metadata": {
        "colab": {
          "base_uri": "https://localhost:8080/"
        },
        "id": "B4CBbsYIkBjH",
        "outputId": "a569d860-1a07-43d6-9f51-cae864c49dfa"
      },
      "execution_count": 10,
      "outputs": [
        {
          "output_type": "stream",
          "name": "stdout",
          "text": [
            "('\\n'\n",
            " 'АКТ ВТОРОЙ \\n'\n",
            " '\\n'\n",
            " '\\n'\n",
            " '\\n'\n",
            " 'СЦЕНА ПЕРВАЯ \\n'\n",
            " '\\n'\n",
            " 'Эльсинор. Комната в доме Полония.\\n'\n",
            " '\\n'\n",
            " '\\n'\n",
            " 'Входят Полоний и Рейнальдо.\\n'\n",
            " '\\n'\n",
            " '\\n'\n",
            " 'Пол')\n"
          ]
        }
      ]
    },
    {
      "cell_type": "code",
      "source": [
        "#Предобработка данных\n",
        "def normalize_sentence(sentence):\n",
        "    sentence = sentence.lower()\n",
        "    sentence = re.sub(r'[^\\w\\s]', '', sentence)\n",
        "    return sentence\n",
        "\n",
        "def lemmatize_word(word):\n",
        "    return morph.parse(word)[0].normal_form\n",
        "\n",
        "def preprocess_text(text):\n",
        "    sentences = sent_tokenize(text)\n",
        "    tokenized_corpus = []\n",
        "    for sentence in sentences:\n",
        "        normalized_sentence = normalize_sentence(sentence)\n",
        "        tokens = word_tokenize(normalized_sentence)\n",
        "        tokens = [token for token in tokens if token not in stop_words]\n",
        "        tokens = [lemmatize_word(token) for token in tokens]\n",
        "\n",
        "        tokenized_corpus.append(tokens)\n",
        "\n",
        "    return tokenized_corpus\n",
        "\n",
        "pasternak_corpus = preprocess_text(pasternak_texts)\n",
        "print(pasternak_corpus[:100])"
      ],
      "metadata": {
        "colab": {
          "base_uri": "https://localhost:8080/"
        },
        "id": "aXwjQhpDoum3",
        "outputId": "b453df9c-8fa5-4690-d69e-80d909c2e89a"
      },
      "execution_count": 21,
      "outputs": [
        {
          "output_type": "stream",
          "name": "stdout",
          "text": [
            "[['акт', 'второй', 'сцена', 'первый', 'эльсинора'],\n",
            " ['комната', 'дом', 'полоний'],\n",
            " ['входить', 'полоний', 'рейнальдо'],\n",
            " ['полоний', 'деньга', 'письмо', 'он', 'рейнальдо'],\n",
            " ['рейнальдо', 'вручить', 'милорд'],\n",
            " ['полоний', 'б', 'ваш', 'свидание', 'голубчик', 'разнюхать', 'вести'],\n",
            " ['рейнальдо', 'это', 'хотеть', 'милорд'],\n",
            " ['полоний', 'похвально'],\n",
            " ['весьма', 'похвально'],\n",
            " ['видеть',\n",
            "  'дружок',\n",
            "  'сперва',\n",
            "  'спросить',\n",
            "  'датчанин',\n",
            "  'париж',\n",
            "  'средство',\n",
            "  'ль',\n",
            "  'род',\n",
            "  'стоять',\n",
            "  'дружба',\n",
            "  'кто',\n",
            "  'б',\n",
            "  'открыться',\n",
            "  'сын',\n",
            "  'знать',\n",
            "  'обиняк',\n",
            "  'переходить',\n",
            "  'прямо',\n",
            "  'наступление',\n",
            "  'подавать',\n",
            "  'вид'],\n",
            " ['например',\n",
            "  'сказать',\n",
            "  'тон',\n",
            "  'дальний',\n",
            "  'знакомство',\n",
            "  'знать',\n",
            "  'друг',\n",
            "  'встречать',\n",
            "  'отец',\n",
            "  'знак',\n",
            "  'отчасти',\n",
            "  'сам'],\n",
            " ['понятно'],\n",
            " ['рейнальдо', 'вполне', 'милорд'],\n",
            " ['полоний', 'отчасти', 'сам'],\n",
            " ['хотя', 'спешить', 'вставить', 'очень', 'мало'],\n",
            " ['это', 'шалопай'],\n",
            " ['врать', 'мёртвый', 'угодный', 'кроме', 'сумасбродство', 'вредить', 'честь'],\n",
            " ['это', 'бог', 'избавить'],\n",
            " ['разновидность', 'проказа', 'сопутствовать', 'рост', 'свобода', 'пожалуйста'],\n",
            " ['рейнальдо', 'пример', 'игра'],\n",
            " ['полоний', 'пожалуйста'],\n",
            " ['пьянство', 'драка', 'ругань', 'дебоширство'],\n",
            " ['рейнальдо', 'милорд', 'повредить', 'б', 'это', 'честь'],\n",
            " ['полоний'],\n",
            " ['дело', 'соус', 'подать'],\n",
            " ['обвинять', 'чемнибыть', 'чрезмерный', 'б', 'грубый', 'крайность'],\n",
            " [],\n",
            " ['наоборот',\n",
            "  'представить',\n",
            "  'дело',\n",
            "  'промах',\n",
            "  'приобрести',\n",
            "  'налёт',\n",
            "  'огонь',\n",
            "  'оттенок',\n",
            "  'своеволие',\n",
            "  'вид',\n",
            "  'ребяческий',\n",
            "  'озорство',\n",
            "  'простительный',\n",
            "  'весь'],\n",
            " ['рейнальдо', 'осмелиться', 'полоний', 'спросить', 'что', 'это'],\n",
            " ['рейнальдо', 'милорд'],\n",
            " ['что', 'это'],\n",
            " ['полоний', 'мой', 'расчёт'],\n",
            " ['такой', 'речь', 'бить', 'наверняка'],\n",
            " ['вскользь',\n",
            "  'запачкать',\n",
            "  'сын',\n",
            "  'работа',\n",
            "  'мазать',\n",
            "  'рукав',\n",
            "  'ваш',\n",
            "  'собеседник',\n",
            "  'тотчас',\n",
            "  'согласиться',\n",
            "  'замечать',\n",
            "  'подобный',\n",
            "  'проделка',\n",
            "  'непременно',\n",
            "  'прервать',\n",
            "  'скажем',\n",
            "  'манер',\n",
            "  'сэр',\n",
            "  'сказать',\n",
            "  'иль',\n",
            "  'друг',\n",
            "  'сударь',\n",
            "  'смотреть',\n",
            "  'звание',\n",
            "  'откуда',\n",
            "  'воспитанный'],\n",
            " ['рейнальдо', 'совершенно', 'верно'],\n",
            " ['полоний', 'тогдато', 'это', 'хотеть', 'сказать'],\n",
            " ['клясться', 'святой', 'причастие', 'чтоть', 'хотеть', 'сказать'],\n",
            " ['остановиться'],\n",
            " ['рейнальдо', 'прервать', 'скажем', 'полоний', 'прервать'],\n",
            " ['ага', 'прервать', 'прервать', 'сказать', 'знать', 'молодой', 'человек'],\n",
            " ['вчера', 'позавчера', 'такимтый', 'такимтый', 'тамтый'],\n",
            " ['играть', 'мяч', 'порядок', 'пьяный', 'кончить', 'драка'],\n",
            " ['свидетель', 'ходить', 'зазорный', 'дом', 'предаваться', 'буйство', 'дале'],\n",
            " ['удочка', 'насаживать', 'ложь', 'подцеплять', 'правда', 'приманка'],\n",
            " ['человек',\n",
            "  'дальний',\n",
            "  'ум',\n",
            "  'издалёка',\n",
            "  'обход',\n",
            "  'сторона',\n",
            "  'кривая',\n",
            "  'путь',\n",
            "  'выходить',\n",
            "  'прямой'],\n",
            " ['рекомендовать', 'сын', 'способ'],\n",
            " ['понять'],\n",
            " ['понятно'],\n",
            " ['рейнальдо', 'милорд'],\n",
            " ['полоний', 'желать', 'здравствовать'],\n",
            " ['рейнальдо', 'милорд', 'добрый'],\n",
            " ['полоний', 'пускай', 'замечать', 'следить'],\n",
            " ['рейнальдо', 'милорд'],\n",
            " ['полоний', 'музыка', 'урок', 'пускай', 'брать'],\n",
            " ['рейнальдо', 'понятно'],\n",
            " ['полоний', 'добрый', 'путь'],\n",
            " ['рейнальдо', 'уходить'],\n",
            " ['входить', 'офелия'],\n",
            " ['офелия'],\n",
            " ['сказать'],\n",
            " ['офелия', 'бог', 'правый'],\n",
            " ['весь', 'дрожать', 'страх'],\n",
            " ['полоний', 'отчий'],\n",
            " ['господь', 'ты'],\n",
            " ['офелия', 'шить'],\n",
            " ['входить',\n",
            "  'гамлет',\n",
            "  'шляпа',\n",
            "  'безрукавка',\n",
            "  'пополам',\n",
            "  'чулок',\n",
            "  'пятка',\n",
            "  'пятно',\n",
            "  'подвязка',\n",
            "  'трястись',\n",
            "  'слышный',\n",
            "  'стучать',\n",
            "  'коленка',\n",
            "  'коленка',\n",
            "  'растерять',\n",
            "  'ад',\n",
            "  'прибежать',\n",
            "  'порассказать',\n",
            "  'ужас',\n",
            "  'геенна'],\n",
            " ['полоний', 'страсть', 'обезуметь'],\n",
            " ['офелия', 'сказать', 'опасаться'],\n",
            " ['полоний', 'говорить'],\n",
            " ['офелия',\n",
            "  'сжать',\n",
            "  'кисть',\n",
            "  'отступить',\n",
            "  'шаг',\n",
            "  'рука',\n",
            "  'разжимать',\n",
            "  'другой',\n",
            "  'поднести',\n",
            "  'глаз',\n",
            "  'стать',\n",
            "  'изпод',\n",
            "  'рассматривать',\n",
            "  'рисовальщик'],\n",
            " ['долго',\n",
            "  'изучать',\n",
            "  'упор',\n",
            "  'тряхнуть',\n",
            "  'рука',\n",
            "  'трижды',\n",
            "  'поклониться',\n",
            "  'вздохнуть',\n",
            "  'глубина',\n",
            "  'душа',\n",
            "  'испустить',\n",
            "  'пред',\n",
            "  'смерть',\n",
            "  'последний',\n",
            "  'вздох'],\n",
            " ['несколько',\n",
            "  'спустя',\n",
            "  'разжать',\n",
            "  'ладонь',\n",
            "  'освободить',\n",
            "  'рука',\n",
            "  'прочь',\n",
            "  'пойти',\n",
            "  'смотреть',\n",
            "  'плечо'],\n",
            " ['идти',\n",
            "  'глядеть',\n",
            "  'пред',\n",
            "  'себя',\n",
            "  'выйти',\n",
            "  'назад',\n",
            "  'оглядываться',\n",
            "  'дверь',\n",
            "  'глаз',\n",
            "  'время',\n",
            "  'уставить'],\n",
            " ['полоний', 'пойти', 'я', 'отыскать', 'король'],\n",
            " ['явный',\n",
            "  'взрыв',\n",
            "  'любовный',\n",
            "  'безумие',\n",
            "  'неистовство',\n",
            "  'который',\n",
            "  'подчас',\n",
            "  'доходить',\n",
            "  'отчаянный',\n",
            "  'решение'],\n",
            " ['таковой', 'страсть', 'луна', 'играть', 'мы'],\n",
            " ['очень', 'жалко'],\n",
            " ['день', 'резка'],\n",
            " ['офелия', 'казаться', 'помнить', 'наставление', 'принимать', 'письмо'],\n",
            " ['полоний', 'спятить'],\n",
            " ['жаль', 'судить', 'немой', 'сгоряча'],\n",
            " ['полагать', 'гамлет', 'легкомысленный'],\n",
            " ['повидимый', 'перемудрить'],\n",
            " ['видеть',\n",
            "  'бог',\n",
            "  'излишний',\n",
            "  'забота',\n",
            "  'такой',\n",
            "  'проклятие',\n",
            "  'старик',\n",
            "  'беззаботность',\n",
            "  'гора',\n",
            "  'молодёжь'],\n",
            " ['идти', 'рассказать', 'король'],\n",
            " ['иной',\n",
            "  'дело',\n",
            "  'стыдливость',\n",
            "  'молчание',\n",
            "  'вредный',\n",
            "  'откровенный',\n",
            "  'признание'],\n",
            " ['идти'],\n",
            " ['уходить'],\n",
            " ['сцена', 'второй'],\n",
            " ['комната', 'замок'],\n",
            " ['входить', 'король', 'королева', 'розенкранц', 'гильденстерна', 'свита'],\n",
            " ['король', 'привет', 'розенкранц', 'гильденстерна'],\n",
            " ['помимо', 'жажда', 'видеть', 'пред', 'мы', 'заставить', 'вызвать', 'нужда'],\n",
            " ['дойти', 'наверно', 'новость', 'измениться', 'гамлет'],\n",
            " ['мочь', 'сказать', 'иначе', 'неузнаваемый', 'внутренне', 'внешне'],\n",
            " ['понять',\n",
            "  'сила',\n",
            "  'сверх',\n",
            "  'отцов',\n",
            "  'смерть',\n",
            "  'произвести',\n",
            "  'переворот',\n",
            "  'душа'],\n",
            " ['просить',\n",
            "  'оба',\n",
            "  'сверстник',\n",
            "  'школьный',\n",
            "  'год',\n",
            "  'узнать',\n",
            "  'коротко',\n",
            "  'характер',\n",
            "  'пожертвовать',\n",
            "  'досуг',\n",
            "  'провесть'],\n",
            " ['рассеять',\n",
            "  'скука',\n",
            "  'принц',\n",
            "  'увеселение',\n",
            "  'сторона',\n",
            "  'случай',\n",
            "  'допытаться',\n",
            "  'тайна',\n",
            "  'мучить',\n",
            "  'лекарство'],\n",
            " ['королева', 'часто', 'вспоминать', 'господин'],\n",
            " ['никто', 'знать', 'мир', 'кто', 'б', 'предать']]\n"
          ]
        }
      ]
    },
    {
      "cell_type": "code",
      "source": [
        "# Проверяем, что corpus не пустой\n",
        "if len(pasternak_corpus) == 0:\n",
        "    raise ValueError(\"Корпус пуст!\")\n",
        "\n",
        "model_tokenized = FastText(vector_size=100)\n",
        "\n",
        "model_tokenized.build_vocab(corpus_iterable=pasternak_corpus)\n",
        "\n",
        "total_examples = len(pasternak_corpus)\n",
        "total_words = sum(len(sentence) for sentence in pasternak_corpus)\n",
        "\n",
        "model_tokenized.train(\n",
        "    corpus_iterable=pasternak_corpus, epochs=10,  # Убедитесь, что epochs корректное значение\n",
        "    total_examples=total_examples, total_words=total_words, compute_loss=True\n",
        ")\n",
        "\n",
        "print(model_tokenized)"
      ],
      "metadata": {
        "colab": {
          "base_uri": "https://localhost:8080/"
        },
        "id": "tYM5gD-jqyQy",
        "outputId": "c301bfdd-649c-4163-cd8d-509b059f52dc"
      },
      "execution_count": 55,
      "outputs": [
        {
          "output_type": "stream",
          "name": "stdout",
          "text": [
            "<gensim.models.fasttext.FastText object at 0x7e4118457950>\n"
          ]
        }
      ]
    },
    {
      "cell_type": "code",
      "source": [
        "similar_words = model_tokenized.wv.most_similar('судьба', topn=5)\n",
        "\n",
        "# Выводим результат\n",
        "print(\"Семантически близкие слова:\")\n",
        "for word, similarity in similar_words:\n",
        "    print(f\"{word}: {similarity}\")"
      ],
      "metadata": {
        "colab": {
          "base_uri": "https://localhost:8080/"
        },
        "id": "IXtIWlWaxjze",
        "outputId": "54eeaee7-6e3b-4c70-ee91-fac7fa9197f2"
      },
      "execution_count": 44,
      "outputs": [
        {
          "output_type": "stream",
          "name": "stdout",
          "text": [
            "'Семантически близкие слова:'\n",
            "'просить: 0.9999703764915466'\n",
            "'показывать: 0.9999698996543884'\n",
            "'видать: 0.9999697208404541'\n",
            "'простить: 0.9999696016311646'\n",
            "'попросить: 0.9999688863754272'\n"
          ]
        }
      ]
    },
    {
      "cell_type": "markdown",
      "source": [
        "Звучит очень даже неплохо."
      ],
      "metadata": {
        "id": "Jmi91Klv1RY3"
      }
    },
    {
      "cell_type": "code",
      "source": [
        "# Используем 15 наиболее частотных слов\n",
        "top_words = model_tokenized.wv.index_to_key[:15]\n",
        "\n",
        "word_vectors = model_tokenized.wv[top_words]\n",
        "\n",
        "pca = PCA(n_components=2)\n",
        "reduced_vectors = pca.fit_transform(word_vectors)\n",
        "plt.figure(figsize=(10, 10))\n",
        "for i, word in enumerate(top_words):\n",
        "    plt.scatter(reduced_vectors[i, 0], reduced_vectors[i, 1])\n",
        "    plt.text(reduced_vectors[i, 0], reduced_vectors[i, 1], word, fontsize=10)\n",
        "\n",
        "plt.title(\"Визуализация векторных представлений слов\")\n",
        "plt.show()\n",
        "\n",
        "# видим, что герои \"притянулись друг другу\" (что и логично), местоимения находятся на самом дальнем расстоянии."
      ],
      "metadata": {
        "colab": {
          "base_uri": "https://localhost:8080/",
          "height": 853
        },
        "id": "0iVjrZ2mzRJQ",
        "outputId": "20018f97-de53-4077-e6bc-08153ffddd10"
      },
      "execution_count": 54,
      "outputs": [
        {
          "output_type": "display_data",
          "data": {
            "text/plain": [
              "<Figure size 1000x1000 with 1 Axes>"
            ],
            "image/png": "[encoded data removed]"
          },
          "metadata": {}
        }
      ]
    }
  ]
}